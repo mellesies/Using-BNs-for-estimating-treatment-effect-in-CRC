{
 "cells": [
  {
   "cell_type": "markdown",
   "metadata": {},
   "source": [
    "# Preamble\n",
    "\n",
    "This notebook contains generic imports and functions related to data analysis.\n",
    "It can be included in another notebook by calling `%run '_preamble.ipynb'`."
   ]
  },
  {
   "cell_type": "code",
   "execution_count": 1,
   "metadata": {},
   "outputs": [
    {
     "name": "stdout",
     "output_type": "stream",
     "text": [
      "Python version: 3.8.13\n",
      "NumPy version: 1.20.3\n",
      "Pandas version: 1.3.2\n"
     ]
    }
   ],
   "source": [
    "# This is handled in '~/.ipython/profile_default/ipython_config.py'\n",
    "# %load_ext autoreload\n",
    "# %autoreload 2\n",
    "%load_ext rpy2.ipython\n",
    "\n",
    "# STL\n",
    "import sys\n",
    "import os, os.path\n",
    "from datetime import datetime, timedelta\n",
    "\n",
    "print(f'Python version: {\".\".join([str(x) for x in sys.version_info[0:3]])}')\n",
    "\n",
    "# data science stuff\n",
    "import numpy as np\n",
    "print(f'NumPy version: {np.__version__}')\n",
    "\n",
    "import pandas as pd\n",
    "pd.set_option('precision', 2)\n",
    "pd.set_option('display.max_columns', 999)\n",
    "\n",
    "print(f'Pandas version: {pd.__version__}')\n",
    "\n",
    "# Visualisation\n",
    "import altair as alt\n",
    "from altair.expr import datum, if_\n",
    "from altair import expr\n",
    "alt.renderers.enable('default')\n",
    "# alt.renderers.enable('altair_saver', fmts=['vega-lite', 'png'])\n",
    "alt.data_transformers.disable_max_rows()\n",
    "\n",
    "import matplotlib.pyplot as plt\n",
    "%matplotlib inline\n",
    "from IPython.display import HTML, Markdown\n",
    "\n",
    "# Jupyter Notebook Tools\n",
    "import data_science_tools as tools\n",
    "from data_science_tools.boxes import info, warn, error\n",
    "from data_science_tools.pandas import head, tail\n",
    "\n",
    "# NCR/cancer-specific stuff\n",
    "# import ncr\n",
    "\n",
    "# Survival analysis!\n",
    "from lifelines import CoxPHFitter, KaplanMeierFitter\n",
    "from lifelines.utils import ConvergenceError\n",
    "from sklearn.linear_model import LogisticRegression\n",
    "\n",
    "# Statistics\n",
    "from scipy import stats\n",
    "\n",
    "\n",
    "# Ignore warnings\n",
    "import warnings\n",
    "warnings.simplefilter(\"ignore\")\n",
    "pd.options.display.max_columns = 999\n"
   ]
  },
  {
   "cell_type": "code",
   "execution_count": 2,
   "metadata": {},
   "outputs": [
    {
     "name": "stdout",
     "output_type": "stream",
     "text": [
      "This script was last run on Monday, 14-06-2021, 09:07\n",
      "\n"
     ]
    }
   ],
   "source": [
    "print(\"This script was last run on\", datetime.now().strftime('%A, %d-%m-%Y, %H:%M'))\n",
    "print()"
   ]
  },
  {
   "cell_type": "code",
   "execution_count": 3,
   "metadata": {},
   "outputs": [],
   "source": [
    "logging_setup = False"
   ]
  },
  {
   "cell_type": "code",
   "execution_count": 4,
   "metadata": {},
   "outputs": [
    {
     "name": "stdout",
     "output_type": "stream",
     "text": [
      "Current working directory: \"/Users/melle/OneDrive/OneDrive - IKNL/04 - Projecten/Observational data for CER (internship)/src/giordano-melle\"\n",
      "\n",
      "connect to this kernel with:\n",
      "  jupyter console --existing 50e9ec6c-5b09-4a7e-ade3-ad92c0b535d4\n",
      "\n"
     ]
    }
   ],
   "source": [
    "# Print current working directory\n",
    "print(f'Current working directory: \"{os.getcwd()}\"\\n')\n",
    "\n",
    "# Print kernel ID\n",
    "__kernel_id = tools.jupyter.get_kernel_id()\n",
    "print(f'connect to this kernel with:\\n  jupyter console --existing {__kernel_id}')\n",
    "print()"
   ]
  },
  {
   "cell_type": "code",
   "execution_count": 9,
   "metadata": {},
   "outputs": [],
   "source": [
    "# Global variables for plotting\n",
    "plot_height=350\n",
    "plot_width=400\n",
    "\n",
    "table_nr = 1"
   ]
  }
 ],
 "metadata": {
  "kernelspec": {
   "display_name": "giordano",
   "language": "python",
   "name": "giordano"
  },
  "language_info": {
   "codemirror_mode": {
    "name": "ipython",
    "version": 3
   },
   "file_extension": ".py",
   "mimetype": "text/x-python",
   "name": "python",
   "nbconvert_exporter": "python",
   "pygments_lexer": "ipython3",
   "version": "3.8.14"
  }
 },
 "nbformat": 4,
 "nbformat_minor": 4
}
