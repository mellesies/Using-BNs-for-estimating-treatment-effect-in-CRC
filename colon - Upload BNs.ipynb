{
 "cells": [
  {
   "attachments": {},
   "cell_type": "markdown",
   "metadata": {},
   "source": [
    "# Upload BNs"
   ]
  },
  {
   "cell_type": "code",
   "execution_count": 1,
   "metadata": {},
   "outputs": [
    {
     "name": "stdout",
     "output_type": "stream",
     "text": [
      "Python version: 3.8.14\n",
      "NumPy version: 1.20.3\n",
      "Pandas version: 1.3.2\n"
     ]
    },
    {
     "name": "stderr",
     "output_type": "stream",
     "text": [
      "/Users/melle/.virtualenvs/giordano/lib/python3.8/site-packages/requests/__init__.py:89: RequestsDependencyWarning: urllib3 (1.26.13) or chardet (3.0.4) doesn't match a supported version!\n",
      "  warnings.warn(\"urllib3 ({}) or chardet ({}) doesn't match a supported \"\n"
     ]
    },
    {
     "name": "stdout",
     "output_type": "stream",
     "text": [
      "This script was last run on Thursday, 30-03-2023, 09:08\n",
      "\n",
      "Current working directory: \"/Users/melle/IKNL/04 - Projecten/Observational data for CER (internship)/src/giordano-melle/colon-analysis\"\n",
      "\n",
      "connect to this kernel with:\n",
      "  jupyter console --existing 99f131a6-a362-4949-8dea-fb5012b4eec8\n",
      "\n"
     ]
    }
   ],
   "source": [
    "%run '_preamble.ipynb'"
   ]
  },
  {
   "cell_type": "code",
   "execution_count": 6,
   "metadata": {},
   "outputs": [],
   "source": [
    "import requests\n",
    "from requests.exceptions import ConnectionError\n",
    "\n",
    "import json\n",
    "import yaml\n",
    "\n",
    "from thomas.core import examples\n",
    "from thomas.client import Client\n",
    "from thomas.jupyter import BayesianNetworkWidget\n",
    "import thomas.core.reader.net "
   ]
  },
  {
   "cell_type": "code",
   "execution_count": 3,
   "metadata": {},
   "outputs": [
    {
     "name": "stdout",
     "output_type": "stream",
     "text": [
      "Connected to http://thomas.zakbroek.com\n"
     ]
    }
   ],
   "source": [
    "with open('config.yaml') as fp:\n",
    "    cfg = yaml.load(fp)\n",
    "\n",
    "try:\n",
    "    client = Client(cfg['host'])\n",
    "    client.authenticate(\n",
    "        cfg['username'], \n",
    "        cfg['password']\n",
    "    )\n",
    "    \n",
    "except ConnectionError as e:\n",
    "    print(f'!!! Could not connect to {cfg[\"host\"]}')\n",
    "\n",
    "else:\n",
    "    print(f'Connected to {cfg[\"host\"]}')"
   ]
  },
  {
   "cell_type": "code",
   "execution_count": 4,
   "metadata": {},
   "outputs": [
    {
     "data": {
      "text/html": [
       "<div>\n",
       "<style scoped>\n",
       "    .dataframe tbody tr th:only-of-type {\n",
       "        vertical-align: middle;\n",
       "    }\n",
       "\n",
       "    .dataframe tbody tr th {\n",
       "        vertical-align: top;\n",
       "    }\n",
       "\n",
       "    .dataframe thead th {\n",
       "        text-align: right;\n",
       "    }\n",
       "</style>\n",
       "<table border=\"1\" class=\"dataframe\">\n",
       "  <thead>\n",
       "    <tr style=\"text-align: right;\">\n",
       "      <th></th>\n",
       "      <th>id</th>\n",
       "      <th>name</th>\n",
       "    </tr>\n",
       "  </thead>\n",
       "  <tbody>\n",
       "    <tr>\n",
       "      <th>0</th>\n",
       "      <td>lungcancer</td>\n",
       "      <td>Lungcancer</td>\n",
       "    </tr>\n",
       "    <tr>\n",
       "      <th>1</th>\n",
       "      <td>student</td>\n",
       "      <td>Student</td>\n",
       "    </tr>\n",
       "    <tr>\n",
       "      <th>2</th>\n",
       "      <td>sprinkler</td>\n",
       "      <td>Sprinkler</td>\n",
       "    </tr>\n",
       "    <tr>\n",
       "      <th>3</th>\n",
       "      <td>colon_cancer_elderly</td>\n",
       "      <td>Colon cancer</td>\n",
       "    </tr>\n",
       "    <tr>\n",
       "      <th>4</th>\n",
       "      <td>colon_cancer_elderly_mutilated</td>\n",
       "      <td>Colon cancer - mutilated</td>\n",
       "    </tr>\n",
       "  </tbody>\n",
       "</table>\n",
       "</div>"
      ],
      "text/plain": [
       "                               id                      name\n",
       "0                      lungcancer                Lungcancer\n",
       "1                         student                   Student\n",
       "2                       sprinkler                 Sprinkler\n",
       "3            colon_cancer_elderly              Colon cancer\n",
       "4  colon_cancer_elderly_mutilated  Colon cancer - mutilated"
      ]
     },
     "execution_count": 4,
     "metadata": {},
     "output_type": "execute_result"
    }
   ],
   "source": [
    "client.list_networks()"
   ]
  },
  {
   "cell_type": "code",
   "execution_count": 7,
   "metadata": {},
   "outputs": [
    {
     "data": {
      "text/plain": [
       "<BayesianNetwork name='Colon cancer - Manually added edges'>\n",
       "  <Node RV='recfree_01y' description='' states=['false', 'true'] />\n",
       "  <Node RV='recfree_02y' description='' states=['false', 'true'] />\n",
       "  <Node RV='surv_01y' description='' states=['false', 'true'] />\n",
       "  <Node RV='surv_02y' description='' states=['false', 'true'] />\n",
       "  <Node RV='surv_03y' description='' states=['false', 'true'] />\n",
       "  <Node RV='surv_04y' description='' states=['false', 'true'] />\n",
       "  <Node RV='surv_05y' description='' states=['false', 'true'] />\n",
       "  <Node RV='sex' description='' states=['male', 'female'] />\n",
       "  <Node RV='pT' description='' states=['T1', 'T2', 'T3', 'T4'] />\n",
       "  <Node RV='pN' description='' states=['N1', 'N2'] />\n",
       "  <Node RV='location' description='' states=['proximal', 'distal', 'other/unknown'] />\n",
       "  <Node RV='grade' description='' states=['g1', 'g2', 'g3', 'g4', 'unknown'] />\n",
       "  <Node RV='comorbidities' description='' states=['none', '1', '2+', 'unknown'] />\n",
       "  <Node RV='age' description='' states=['70 - 74', '75 - 79', '80+'] />\n",
       "  <Node RV='adj_therapy' description='' states=['No', 'Yes'] />\n",
       "  <Node RV='ASA' description='' states=['1', '2', '3', '4', 'unknown'] />\n",
       "</BayesianNetwork>"
      ]
     },
     "execution_count": 7,
     "metadata": {},
     "output_type": "execute_result"
    }
   ],
   "source": [
    "bn = thomas.core.reader.oobn.read('results/adj_vs_none/colonca_2005_2012_adjuvant_none_added_edges.oobn')\n",
    "bn.name = \"Colon cancer - Manually added edges\"\n",
    "bn"
   ]
  },
  {
   "cell_type": "code",
   "execution_count": 9,
   "metadata": {},
   "outputs": [],
   "source": [
    "# positions = widget.getPositions()\n",
    "positions = {\n",
    "    'recfree_01y': [20, 400],\n",
    "    'recfree_02y': [250, 400],\n",
    "    'surv_01y': [50, 510],\n",
    "    'surv_02y': [280, 510],\n",
    "    'surv_03y': [510, 510],\n",
    "    'surv_04y': [740, 513],\n",
    "    'surv_05y': [970, 510],\n",
    "    'sex': [30, 10],\n",
    "    'pT': [330, 60],\n",
    "    'pN': [140, 310],\n",
    "    'location': [30, 90],\n",
    "    'grade': [45, 185],\n",
    "    'comorbidities': [800, 15],\n",
    "    'age': [530, 30],\n",
    "    'adj_therapy': [500, 250],\n",
    "    'ASA': [750, 150]\n",
    "}\n",
    "\n",
    "for node in bn.nodes:\n",
    "    # print(node, bn[node].position)\n",
    "    bn[node].position = positions[node]\n",
    "    # bn[node].position = [0, 0]"
   ]
  },
  {
   "cell_type": "code",
   "execution_count": 10,
   "metadata": {},
   "outputs": [
    {
     "data": {
      "application/vnd.jupyter.widget-view+json": {
       "model_id": "bab9d8af5fe04264be95bc99edfe4d8a",
       "version_major": 2,
       "version_minor": 0
      },
      "text/plain": [
       "BayesianNetworkWidget(height=600, marginals_and_evidence={'marginals': {'recfree_01y': {'false': 0.24008565317…"
      ]
     },
     "metadata": {},
     "output_type": "display_data"
    }
   ],
   "source": [
    "widget = BayesianNetworkWidget(bn, height=600)\n",
    "widget"
   ]
  },
  {
   "cell_type": "code",
   "execution_count": 11,
   "metadata": {
    "collapsed": true,
    "jupyter": {
     "outputs_hidden": true,
     "source_hidden": true
    },
    "tags": []
   },
   "outputs": [
    {
     "data": {
      "text/plain": [
       "<BayesianNetwork name='Colon cancer - Manually added edges'>\n",
       "  <Node RV='recfree_01y' description='' states=['false', 'true'] />\n",
       "  <Node RV='recfree_02y' description='' states=['false', 'true'] />\n",
       "  <Node RV='surv_01y' description='' states=['false', 'true'] />\n",
       "  <Node RV='surv_02y' description='' states=['false', 'true'] />\n",
       "  <Node RV='surv_03y' description='' states=['false', 'true'] />\n",
       "  <Node RV='surv_04y' description='' states=['false', 'true'] />\n",
       "  <Node RV='surv_05y' description='' states=['false', 'true'] />\n",
       "  <Node RV='sex' description='' states=['male', 'female'] />\n",
       "  <Node RV='pT' description='' states=['T1', 'T2', 'T3', 'T4'] />\n",
       "  <Node RV='pN' description='' states=['N1', 'N2'] />\n",
       "  <Node RV='location' description='' states=['proximal', 'distal', 'other/unknown'] />\n",
       "  <Node RV='grade' description='' states=['g1', 'g2', 'g3', 'g4', 'unknown'] />\n",
       "  <Node RV='comorbidities' description='' states=['none', '1', '2+', 'unknown'] />\n",
       "  <Node RV='age' description='' states=['70 - 74', '75 - 79', '80+'] />\n",
       "  <Node RV='adj_therapy' description='' states=['No', 'Yes'] />\n",
       "  <Node RV='ASA' description='' states=['1', '2', '3', '4', 'unknown'] />\n",
       "</BayesianNetwork>"
      ]
     },
     "execution_count": 11,
     "metadata": {},
     "output_type": "execute_result"
    }
   ],
   "source": [
    "client.save_as(bn, \"colon_cancer_elderly_added_edges\")"
   ]
  }
 ],
 "metadata": {
  "kernelspec": {
   "display_name": "giordano",
   "language": "python",
   "name": "giordano"
  },
  "language_info": {
   "codemirror_mode": {
    "name": "ipython",
    "version": 3
   },
   "file_extension": ".py",
   "mimetype": "text/x-python",
   "name": "python",
   "nbconvert_exporter": "python",
   "pygments_lexer": "ipython3",
   "version": "3.8.14"
  }
 },
 "nbformat": 4,
 "nbformat_minor": 4
}
